{
  "nbformat": 4,
  "nbformat_minor": 0,
  "metadata": {
    "colab": {
      "provenance": []
    },
    "kernelspec": {
      "name": "python3",
      "display_name": "Python 3"
    },
    "language_info": {
      "name": "python"
    }
  },
  "cells": [
    {
      "cell_type": "markdown",
      "source": [
        "Step 1: Load the Dataset"
      ],
      "metadata": {
        "id": "8BpKOso8CLb0"
      }
    },
    {
      "cell_type": "code",
      "execution_count": 12,
      "metadata": {
        "colab": {
          "base_uri": "https://localhost:8080/"
        },
        "id": "_PxvmC7iCAly",
        "outputId": "408b2dcf-616e-49c6-e188-896448be3717"
      },
      "outputs": [
        {
          "output_type": "stream",
          "name": "stdout",
          "text": [
            "   Unnamed: 0                              Name    Location  Year  \\\n",
            "0           1  Hyundai Creta 1.6 CRDi SX Option        Pune  2015   \n",
            "1           2                      Honda Jazz V     Chennai  2011   \n",
            "2           3                 Maruti Ertiga VDI     Chennai  2012   \n",
            "3           4   Audi A4 New 2.0 TDI Multitronic  Coimbatore  2013   \n",
            "4           6            Nissan Micra Diesel XV      Jaipur  2013   \n",
            "\n",
            "   Kilometers_Driven Fuel_Type Transmission Owner_Type     Mileage   Engine  \\\n",
            "0              41000    Diesel       Manual      First  19.67 kmpl  1582 CC   \n",
            "1              46000    Petrol       Manual      First    13 km/kg  1199 CC   \n",
            "2              87000    Diesel       Manual      First  20.77 kmpl  1248 CC   \n",
            "3              40670    Diesel    Automatic     Second   15.2 kmpl  1968 CC   \n",
            "4              86999    Diesel       Manual      First  23.08 kmpl  1461 CC   \n",
            "\n",
            "       Power  Seats  New_Price  Price  \n",
            "0  126.2 bhp    5.0        NaN  12.50  \n",
            "1   88.7 bhp    5.0  8.61 Lakh   4.50  \n",
            "2  88.76 bhp    7.0        NaN   6.00  \n",
            "3  140.8 bhp    5.0        NaN  17.74  \n",
            "4   63.1 bhp    5.0        NaN   3.50  \n",
            "   Unnamed: 0                              Name    Location  Year  \\\n",
            "0           1  Hyundai Creta 1.6 CRDi SX Option        Pune  2015   \n",
            "1           2                      Honda Jazz V     Chennai  2011   \n",
            "2           3                 Maruti Ertiga VDI     Chennai  2012   \n",
            "3           4   Audi A4 New 2.0 TDI Multitronic  Coimbatore  2013   \n",
            "4           6            Nissan Micra Diesel XV      Jaipur  2013   \n",
            "\n",
            "   Kilometers_Driven Fuel_Type Transmission Owner_Type     Mileage   Engine  \\\n",
            "0              41000    Diesel       Manual      First  19.67 kmpl  1582 CC   \n",
            "1              46000    Petrol       Manual      First    13 km/kg  1199 CC   \n",
            "2              87000    Diesel       Manual      First  20.77 kmpl  1248 CC   \n",
            "3              40670    Diesel    Automatic     Second   15.2 kmpl  1968 CC   \n",
            "4              86999    Diesel       Manual      First  23.08 kmpl  1461 CC   \n",
            "\n",
            "       Power  Seats  New_Price  Price  \n",
            "0  126.2 bhp    5.0        NaN  12.50  \n",
            "1   88.7 bhp    5.0  8.61 Lakh   4.50  \n",
            "2  88.76 bhp    7.0        NaN   6.00  \n",
            "3  140.8 bhp    5.0        NaN  17.74  \n",
            "4   63.1 bhp    5.0        NaN   3.50  \n"
          ]
        }
      ],
      "source": [
        "import pandas as pd\n",
        "import pandas as pd\n",
        "\n",
        "# Load your dataset\n",
        "df = pd.read_csv('/content/train.csv')\n",
        "\n",
        "# Preview the first few rows\n",
        "print(df.head())\n",
        "\n",
        "print(df.head())"
      ]
    },
    {
      "cell_type": "markdown",
      "source": [
        "Step 2: Handling Missing Values"
      ],
      "metadata": {
        "id": "TQGzdbBLCKVU"
      }
    },
    {
      "cell_type": "code",
      "source": [
        "# Check for missing values\n",
        "print(df.isnull().sum())\n",
        "\n",
        "# Impute missing values:\n",
        "# For 'Mileage', 'Engine', and 'Power', use the mode of each column\n",
        "df['Mileage'] = df['Mileage'].fillna(df['Mileage'].mode()[0])\n",
        "df['Engine'] = df['Engine'].fillna(df['Engine'].mode()[0])\n",
        "df['Power'] = df['Power'].fillna(df['Power'].mode()[0])\n",
        "\n",
        "# For 'Seats', use the median as it's numerical\n",
        "df['Seats'] = df['Seats'].fillna(df['Seats'].median())\n",
        "\n",
        "# Drop 'New_Price' column due to high percentage of missing values\n",
        "df = df.drop(columns=['New_Price'])\n",
        "\n",
        "# Confirm there are no missing values left\n",
        "print(df.isnull().sum())"
      ],
      "metadata": {
        "colab": {
          "base_uri": "https://localhost:8080/"
        },
        "id": "VzI2uyglCV_u",
        "outputId": "d178a1e6-2ebd-46d6-a3a1-ef27e5c74e39"
      },
      "execution_count": 13,
      "outputs": [
        {
          "output_type": "stream",
          "name": "stdout",
          "text": [
            "Unnamed: 0              0\n",
            "Name                    0\n",
            "Location                0\n",
            "Year                    0\n",
            "Kilometers_Driven       0\n",
            "Fuel_Type               0\n",
            "Transmission            0\n",
            "Owner_Type              0\n",
            "Mileage                 2\n",
            "Engine                 36\n",
            "Power                  36\n",
            "Seats                  38\n",
            "New_Price            5032\n",
            "Price                   0\n",
            "dtype: int64\n",
            "Unnamed: 0           0\n",
            "Name                 0\n",
            "Location             0\n",
            "Year                 0\n",
            "Kilometers_Driven    0\n",
            "Fuel_Type            0\n",
            "Transmission         0\n",
            "Owner_Type           0\n",
            "Mileage              0\n",
            "Engine               0\n",
            "Power                0\n",
            "Seats                0\n",
            "Price                0\n",
            "dtype: int64\n"
          ]
        }
      ]
    },
    {
      "cell_type": "markdown",
      "source": [
        "Step 3: Remove Units from Numerical Columns"
      ],
      "metadata": {
        "id": "_PY1hXUnCZ06"
      }
    },
    {
      "cell_type": "code",
      "source": [
        "# Define a function to remove non-numeric characters\n",
        "def extract_numeric(value):\n",
        "    if isinstance(value, str):\n",
        "        # Keep only digits and decimal points\n",
        "        return float(''.join(filter(lambda x: x.isdigit() or x == '.', value)))\n",
        "    return value\n",
        "\n",
        "# Apply this function to the relevant columns\n",
        "df['Mileage'] = df['Mileage'].apply(extract_numeric)\n",
        "df['Engine'] = df['Engine'].apply(extract_numeric)\n",
        "df['Power'] = df['Power'].apply(extract_numeric)\n",
        "\n",
        "# Note: Since 'New_Price' was dropped earlier due to high missing values, skip it here.\n",
        "# If it's still in your data, you can uncomment the following line:\n",
        "# df['New_Price'] = df['New_Price'].apply(extract_numeric)\n",
        "\n",
        "# Verify the changes\n",
        "print(df[['Mileage', 'Engine', 'Power']].head())"
      ],
      "metadata": {
        "colab": {
          "base_uri": "https://localhost:8080/"
        },
        "id": "yzVqrQX_Ccj3",
        "outputId": "540b75c3-a381-4382-82e7-12ccd52f7ad0"
      },
      "execution_count": 14,
      "outputs": [
        {
          "output_type": "stream",
          "name": "stdout",
          "text": [
            "   Mileage  Engine   Power\n",
            "0    19.67  1582.0  126.20\n",
            "1    13.00  1199.0   88.70\n",
            "2    20.77  1248.0   88.76\n",
            "3    15.20  1968.0  140.80\n",
            "4    23.08  1461.0   63.10\n"
          ]
        }
      ]
    }
  ]
}