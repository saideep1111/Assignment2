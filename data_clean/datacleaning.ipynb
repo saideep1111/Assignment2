{
  "nbformat": 4,
  "nbformat_minor": 0,
  "metadata": {
    "colab": {
      "provenance": []
    },
    "kernelspec": {
      "name": "python3",
      "display_name": "Python 3"
    },
    "language_info": {
      "name": "python"
    }
  },
  "cells": [
    {
      "cell_type": "markdown",
      "source": [
        "Step a: Handling Missing Values"
      ],
      "metadata": {
        "id": "SunfyYGoafXo"
      }
    },
    {
      "cell_type": "code",
      "execution_count": 3,
      "metadata": {
        "colab": {
          "base_uri": "https://localhost:8080/"
        },
        "id": "M8yrJV0yab1Y",
        "outputId": "5f3aea5a-f93b-44cc-85a1-bdc5afabe862"
      },
      "outputs": [
        {
          "output_type": "stream",
          "name": "stdout",
          "text": [
            "Unnamed: 0           0\n",
            "Name                 0\n",
            "Location             0\n",
            "Year                 0\n",
            "Kilometers_Driven    0\n",
            "Fuel_Type            0\n",
            "Transmission         0\n",
            "Owner_Type           0\n",
            "Mileage              0\n",
            "Engine               0\n",
            "Power                0\n",
            "Seats                0\n",
            "New_Price            0\n",
            "Price                0\n",
            "dtype: int64\n"
          ]
        },
        {
          "output_type": "stream",
          "name": "stderr",
          "text": [
            "<ipython-input-3-a28c587899ee>:16: FutureWarning: A value is trying to be set on a copy of a DataFrame or Series through chained assignment using an inplace method.\n",
            "The behavior will change in pandas 3.0. This inplace method will never work because the intermediate object on which we are setting values always behaves as a copy.\n",
            "\n",
            "For example, when doing 'df[col].method(value, inplace=True)', try using 'df.method({col: value}, inplace=True)' or df[col] = df[col].method(value) instead, to perform the operation inplace on the original object.\n",
            "\n",
            "\n",
            "  df[column].fillna(df[column].mean(), inplace=True)\n",
            "<ipython-input-3-a28c587899ee>:13: FutureWarning: A value is trying to be set on a copy of a DataFrame or Series through chained assignment using an inplace method.\n",
            "The behavior will change in pandas 3.0. This inplace method will never work because the intermediate object on which we are setting values always behaves as a copy.\n",
            "\n",
            "For example, when doing 'df[col].method(value, inplace=True)', try using 'df.method({col: value}, inplace=True)' or df[col] = df[col].method(value) instead, to perform the operation inplace on the original object.\n",
            "\n",
            "\n",
            "  df[column].fillna(df[column].mode()[0], inplace=True)\n"
          ]
        }
      ],
      "source": [
        "import pandas as pd\n",
        "\n",
        "# Load the dataset\n",
        "df = pd.read_csv('/content/train.csv')\n",
        "\n",
        "# Check for missing values\n",
        "missing_values = df.isnull().sum()\n",
        "\n",
        "# Impute missing values\n",
        "for column in df.columns:\n",
        "    if df[column].dtype == 'object':\n",
        "        # Impute categorical columns with mode\n",
        "        df[column].fillna(df[column].mode()[0], inplace=True)\n",
        "    else:\n",
        "        # Impute numerical columns with mean\n",
        "        df[column].fillna(df[column].mean(), inplace=True)\n",
        "\n",
        "# Verify that there are no missing values\n",
        "print(df.isnull().sum())\n"
      ]
    },
    {
      "cell_type": "markdown",
      "source": [
        "Step b: Removing Units from Attributes"
      ],
      "metadata": {
        "id": "IOLsVZTdbGWZ"
      }
    },
    {
      "cell_type": "code",
      "source": [
        "# Remove units from specified columns\n",
        "df['Mileage'] = df['Mileage'].astype(str).str.replace(' kmpl', '').str.replace(' km/kg', '').astype(float)\n",
        "df['Engine'] = df['Engine'].astype(str).str.replace(' CC', '').astype(float)\n",
        "df['Power'] = df['Power'].astype(str).str.replace(' bhp', '').astype(float)\n",
        "\n",
        "# For New_Price, handle both Lakh and Crore\n",
        "df['New_Price'] = df['New_Price'].astype(str).str.replace(' Cr', '').str.replace(' Lakh', '').astype(float)\n",
        "# Convert Crore values to Lakh (1 Crore = 100 Lakh)\n",
        "mask = df['New_Price'].astype(str).str.contains('Cr')\n",
        "df.loc[mask, 'New_Price'] *= 100\n",
        "\n",
        "# Verify the changes\n",
        "print(df[['Mileage', 'Engine', 'Power', 'New_Price']].head())"
      ],
      "metadata": {
        "colab": {
          "base_uri": "https://localhost:8080/"
        },
        "id": "MNKyIG4hbCqV",
        "outputId": "afec37eb-a05b-4f22-abea-7e2487455d2f"
      },
      "execution_count": 4,
      "outputs": [
        {
          "output_type": "stream",
          "name": "stdout",
          "text": [
            "   Mileage  Engine   Power  New_Price\n",
            "0    19.67  1582.0  126.20       4.78\n",
            "1    13.00  1199.0   88.70       8.61\n",
            "2    20.77  1248.0   88.76       4.78\n",
            "3    15.20  1968.0  140.80       4.78\n",
            "4    23.08  1461.0   63.10       4.78\n"
          ]
        }
      ]
    }
  ]
}