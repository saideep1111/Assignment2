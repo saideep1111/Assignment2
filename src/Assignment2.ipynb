{
  "nbformat": 4,
  "nbformat_minor": 0,
  "metadata": {
    "colab": {
      "provenance": []
    },
    "kernelspec": {
      "name": "python3",
      "display_name": "Python 3"
    },
    "language_info": {
      "name": "python"
    }
  },
  "cells": [
    {
      "cell_type": "markdown",
      "source": [
        "Step 1: Load the Dataset"
      ],
      "metadata": {
        "id": "54R1LqawoIW5"
      }
    },
    {
      "cell_type": "code",
      "execution_count": 66,
      "metadata": {
        "colab": {
          "base_uri": "https://localhost:8080/"
        },
        "id": "pvYy00xnnT3O",
        "outputId": "f65f4c37-49c0-497c-8ca8-0fc2b4e9d673"
      },
      "outputs": [
        {
          "output_type": "stream",
          "name": "stdout",
          "text": [
            "   Unnamed: 0                              Name    Location  Year  \\\n",
            "0           1  Hyundai Creta 1.6 CRDi SX Option        Pune  2015   \n",
            "1           2                      Honda Jazz V     Chennai  2011   \n",
            "2           3                 Maruti Ertiga VDI     Chennai  2012   \n",
            "3           4   Audi A4 New 2.0 TDI Multitronic  Coimbatore  2013   \n",
            "4           6            Nissan Micra Diesel XV      Jaipur  2013   \n",
            "\n",
            "   Kilometers_Driven Fuel_Type Transmission Owner_Type     Mileage   Engine  \\\n",
            "0              41000    Diesel       Manual      First  19.67 kmpl  1582 CC   \n",
            "1              46000    Petrol       Manual      First    13 km/kg  1199 CC   \n",
            "2              87000    Diesel       Manual      First  20.77 kmpl  1248 CC   \n",
            "3              40670    Diesel    Automatic     Second   15.2 kmpl  1968 CC   \n",
            "4              86999    Diesel       Manual      First  23.08 kmpl  1461 CC   \n",
            "\n",
            "       Power  Seats  New_Price  Price  \n",
            "0  126.2 bhp    5.0        NaN  12.50  \n",
            "1   88.7 bhp    5.0  8.61 Lakh   4.50  \n",
            "2  88.76 bhp    7.0        NaN   6.00  \n",
            "3  140.8 bhp    5.0        NaN  17.74  \n",
            "4   63.1 bhp    5.0        NaN   3.50  \n"
          ]
        }
      ],
      "source": [
        "import pandas as pd\n",
        "\n",
        "# Load your dataset\n",
        "df = pd.read_csv('/content/sample_data/train.csv')\n",
        "\n",
        "# Preview the first few rows\n",
        "print(df.head())\n"
      ]
    },
    {
      "cell_type": "markdown",
      "source": [
        "Step 2: Handling Missing Values\n",
        "\n"
      ],
      "metadata": {
        "id": "xflZYZwAoMFg"
      }
    },
    {
      "cell_type": "code",
      "source": [
        "# Check for missing values\n",
        "print(df.isnull().sum())\n",
        "\n",
        "# Impute missing values:\n",
        "# For 'Mileage', 'Engine', and 'Power', use the mode of each column\n",
        "df['Mileage'] = df['Mileage'].fillna(df['Mileage'].mode()[0])\n",
        "df['Engine'] = df['Engine'].fillna(df['Engine'].mode()[0])\n",
        "df['Power'] = df['Power'].fillna(df['Power'].mode()[0])\n",
        "\n",
        "# For 'Seats', use the median as it's numerical\n",
        "df['Seats'] = df['Seats'].fillna(df['Seats'].median())\n",
        "\n",
        "# Drop 'New_Price' column due to high percentage of missing values\n",
        "df = df.drop(columns=['New_Price'])\n",
        "\n",
        "# Confirm there are no missing values left\n",
        "print(df.isnull().sum())\n"
      ],
      "metadata": {
        "colab": {
          "base_uri": "https://localhost:8080/"
        },
        "id": "-8PDO7nKn61g",
        "outputId": "f42a7404-8a75-43f3-b958-c6274b7145b9"
      },
      "execution_count": 67,
      "outputs": [
        {
          "output_type": "stream",
          "name": "stdout",
          "text": [
            "Unnamed: 0              0\n",
            "Name                    0\n",
            "Location                0\n",
            "Year                    0\n",
            "Kilometers_Driven       0\n",
            "Fuel_Type               0\n",
            "Transmission            0\n",
            "Owner_Type              0\n",
            "Mileage                 2\n",
            "Engine                 36\n",
            "Power                  36\n",
            "Seats                  38\n",
            "New_Price            5032\n",
            "Price                   0\n",
            "dtype: int64\n",
            "Unnamed: 0           0\n",
            "Name                 0\n",
            "Location             0\n",
            "Year                 0\n",
            "Kilometers_Driven    0\n",
            "Fuel_Type            0\n",
            "Transmission         0\n",
            "Owner_Type           0\n",
            "Mileage              0\n",
            "Engine               0\n",
            "Power                0\n",
            "Seats                0\n",
            "Price                0\n",
            "dtype: int64\n"
          ]
        }
      ]
    },
    {
      "cell_type": "markdown",
      "source": [
        "Step 3: Remove Units from Numerical Columns"
      ],
      "metadata": {
        "id": "Wtfl-GM1pazE"
      }
    },
    {
      "cell_type": "code",
      "source": [
        "# Define a function to remove non-numeric characters\n",
        "def extract_numeric(value):\n",
        "    if isinstance(value, str):\n",
        "        # Keep only digits and decimal points\n",
        "        return float(''.join(filter(lambda x: x.isdigit() or x == '.', value)))\n",
        "    return value\n",
        "\n",
        "# Apply this function to the relevant columns\n",
        "df['Mileage'] = df['Mileage'].apply(extract_numeric)\n",
        "df['Engine'] = df['Engine'].apply(extract_numeric)\n",
        "df['Power'] = df['Power'].apply(extract_numeric)\n",
        "\n",
        "# Note: Since 'New_Price' was dropped earlier due to high missing values, skip it here.\n",
        "# If it's still in your data, you can uncomment the following line:\n",
        "# df['New_Price'] = df['New_Price'].apply(extract_numeric)\n",
        "\n",
        "# Verify the changes\n",
        "print(df[['Mileage', 'Engine', 'Power']].head())\n"
      ],
      "metadata": {
        "colab": {
          "base_uri": "https://localhost:8080/"
        },
        "id": "PuEBq1QXwcQV",
        "outputId": "ed963bb3-c1d2-46ac-dffa-85d0fc9d144a"
      },
      "execution_count": 68,
      "outputs": [
        {
          "output_type": "stream",
          "name": "stdout",
          "text": [
            "   Mileage  Engine   Power\n",
            "0    19.67  1582.0  126.20\n",
            "1    13.00  1199.0   88.70\n",
            "2    20.77  1248.0   88.76\n",
            "3    15.20  1968.0  140.80\n",
            "4    23.08  1461.0   63.10\n"
          ]
        }
      ]
    },
    {
      "cell_type": "markdown",
      "source": [
        "Step 4: One-Hot Encoding for Categorical Variables"
      ],
      "metadata": {
        "id": "RzHI9pvAoFbx"
      }
    },
    {
      "cell_type": "code",
      "source": [
        "# Perform one-hot encoding for 'Fuel_Type' and 'Transmission'\n",
        "df = pd.get_dummies(df, columns=['Fuel_Type', 'Transmission'], drop_first=True, dtype=int)\n",
        "\n",
        "# Verify the encoding and data types\n",
        "print(\"\\nFirst few rows:\")\n",
        "print(df.head())\n",
        "print(\"\\nData types of encoded columns:\")\n",
        "print(df.dtypes)"
      ],
      "metadata": {
        "colab": {
          "base_uri": "https://localhost:8080/"
        },
        "id": "7-DX924Kz-X-",
        "outputId": "4c515ecc-e389-4b83-bed3-9e886ab4bf4e"
      },
      "execution_count": 69,
      "outputs": [
        {
          "output_type": "stream",
          "name": "stdout",
          "text": [
            "\n",
            "First few rows:\n",
            "   Unnamed: 0                              Name    Location  Year  \\\n",
            "0           1  Hyundai Creta 1.6 CRDi SX Option        Pune  2015   \n",
            "1           2                      Honda Jazz V     Chennai  2011   \n",
            "2           3                 Maruti Ertiga VDI     Chennai  2012   \n",
            "3           4   Audi A4 New 2.0 TDI Multitronic  Coimbatore  2013   \n",
            "4           6            Nissan Micra Diesel XV      Jaipur  2013   \n",
            "\n",
            "   Kilometers_Driven Owner_Type  Mileage  Engine   Power  Seats  Price  \\\n",
            "0              41000      First    19.67  1582.0  126.20    5.0  12.50   \n",
            "1              46000      First    13.00  1199.0   88.70    5.0   4.50   \n",
            "2              87000      First    20.77  1248.0   88.76    7.0   6.00   \n",
            "3              40670     Second    15.20  1968.0  140.80    5.0  17.74   \n",
            "4              86999      First    23.08  1461.0   63.10    5.0   3.50   \n",
            "\n",
            "   Fuel_Type_Electric  Fuel_Type_Petrol  Transmission_Manual  \n",
            "0                   0                 0                    1  \n",
            "1                   0                 1                    1  \n",
            "2                   0                 0                    1  \n",
            "3                   0                 0                    0  \n",
            "4                   0                 0                    1  \n",
            "\n",
            "Data types of encoded columns:\n",
            "Unnamed: 0               int64\n",
            "Name                    object\n",
            "Location                object\n",
            "Year                     int64\n",
            "Kilometers_Driven        int64\n",
            "Owner_Type              object\n",
            "Mileage                float64\n",
            "Engine                 float64\n",
            "Power                  float64\n",
            "Seats                  float64\n",
            "Price                  float64\n",
            "Fuel_Type_Electric       int64\n",
            "Fuel_Type_Petrol         int64\n",
            "Transmission_Manual      int64\n",
            "dtype: object\n"
          ]
        }
      ]
    },
    {
      "cell_type": "markdown",
      "source": [
        "Step 5: Add New Feature (Current Age of Car)"
      ],
      "metadata": {
        "id": "XPjEalN_pqFY"
      }
    },
    {
      "cell_type": "code",
      "source": [
        "from datetime import datetime\n",
        "\n",
        "# Calculate current year\n",
        "current_year = datetime.now().year\n",
        "\n",
        "# Create a new column 'Car_Age'\n",
        "df['Car_Age'] = current_year - df['Year']\n",
        "\n",
        "# Verify the new feature\n",
        "print(df[['Year', 'Car_Age']].head())\n"
      ],
      "metadata": {
        "colab": {
          "base_uri": "https://localhost:8080/"
        },
        "id": "dLFKZxKppqx0",
        "outputId": "0e503ef5-3f52-402e-b810-fb59d05c8627"
      },
      "execution_count": 70,
      "outputs": [
        {
          "output_type": "stream",
          "name": "stdout",
          "text": [
            "   Year  Car_Age\n",
            "0  2015        9\n",
            "1  2011       13\n",
            "2  2012       12\n",
            "3  2013       11\n",
            "4  2013       11\n"
          ]
        }
      ]
    },
    {
      "cell_type": "markdown",
      "source": [
        "Step 6: Data Manipulation Operations"
      ],
      "metadata": {
        "id": "mMWu3dcdpwlz"
      }
    },
    {
      "cell_type": "code",
      "source": [
        "# Select specific columns (e.g., 'Name', 'Location', 'Year', and 'Price')\n",
        "selected_df = df[['Name', 'Location', 'Year', 'Price']]\n",
        "print(selected_df.head())\n",
        "\n",
        "# Filter rows (e.g., cars priced over 10 lakhs)\n",
        "filtered_df = df[df['Price'] > 10]\n",
        "print(filtered_df.head())\n",
        "\n",
        "# Rename columns (e.g., rename 'Kilometers_Driven' to 'Km_Driven')\n",
        "df = df.rename(columns={'Kilometers_Driven': 'Km_Driven'})\n",
        "print(df.columns)\n",
        "\n",
        "# Mutate\n",
        "from datetime import datetime\n",
        "# Calculate the current year\n",
        "current_year = datetime.now().year\n",
        "# Add a new column 'Car_Age' representing the age of the car\n",
        "df['Car_Age'] = current_year - df['Year']\n",
        "print(df[['Year', 'Car_Age']].head())\n",
        "\n",
        "# Arrange (sort) by price in descending order\n",
        "sorted_df = df.sort_values(by='Price', ascending=False)\n",
        "print(sorted_df.head())\n",
        "\n",
        "# Summarize with Group By\n",
        "# Group by 'Location' and calculate the mean price for each location\n",
        "location_summary = df.groupby('Location')['Price'].mean().reset_index()\n",
        "# Rename the summarized column for clarity\n",
        "location_summary = location_summary.rename(columns={'Price': 'Average_Price'})\n",
        "print(location_summary.head())\n",
        "\n"
      ],
      "metadata": {
        "colab": {
          "base_uri": "https://localhost:8080/"
        },
        "id": "FBEJx0kJ2fZJ",
        "outputId": "23120e92-e2d8-4b6e-e9b1-c9ca7debff92"
      },
      "execution_count": 71,
      "outputs": [
        {
          "output_type": "stream",
          "name": "stdout",
          "text": [
            "                               Name    Location  Year  Price\n",
            "0  Hyundai Creta 1.6 CRDi SX Option        Pune  2015  12.50\n",
            "1                      Honda Jazz V     Chennai  2011   4.50\n",
            "2                 Maruti Ertiga VDI     Chennai  2012   6.00\n",
            "3   Audi A4 New 2.0 TDI Multitronic  Coimbatore  2013  17.74\n",
            "4            Nissan Micra Diesel XV      Jaipur  2013   3.50\n",
            "    Unnamed: 0                               Name    Location  Year  \\\n",
            "0            1   Hyundai Creta 1.6 CRDi SX Option        Pune  2015   \n",
            "3            4    Audi A4 New 2.0 TDI Multitronic  Coimbatore  2013   \n",
            "5            7  Toyota Innova Crysta 2.8 GX AT 8S      Mumbai  2016   \n",
            "11          13   Land Rover Range Rover 2.2L Pure       Delhi  2014   \n",
            "12          14     Land Rover Freelander 2 TD4 SE        Pune  2012   \n",
            "\n",
            "    Kilometers_Driven Owner_Type  Mileage  Engine  Power  Seats  Price  \\\n",
            "0               41000      First    19.67  1582.0  126.2    5.0  12.50   \n",
            "3               40670     Second    15.20  1968.0  140.8    5.0  17.74   \n",
            "5               36000      First    11.36  2755.0  171.5    8.0  17.50   \n",
            "11              72000      First    12.70  2179.0  187.7    5.0  27.00   \n",
            "12              85000     Second     0.00  2179.0  115.0    5.0  17.50   \n",
            "\n",
            "    Fuel_Type_Electric  Fuel_Type_Petrol  Transmission_Manual  Car_Age  \n",
            "0                    0                 0                    1        9  \n",
            "3                    0                 0                    0       11  \n",
            "5                    0                 0                    0        8  \n",
            "11                   0                 0                    0       10  \n",
            "12                   0                 0                    0       12  \n",
            "Index(['Unnamed: 0', 'Name', 'Location', 'Year', 'Km_Driven', 'Owner_Type',\n",
            "       'Mileage', 'Engine', 'Power', 'Seats', 'Price', 'Fuel_Type_Electric',\n",
            "       'Fuel_Type_Petrol', 'Transmission_Manual', 'Car_Age'],\n",
            "      dtype='object')\n",
            "   Year  Car_Age\n",
            "0  2015        9\n",
            "1  2011       13\n",
            "2  2012       12\n",
            "3  2013       11\n",
            "4  2013       11\n",
            "      Unnamed: 0                                         Name    Location  \\\n",
            "3952        4079  Land Rover Range Rover 3.0 Diesel LWB Vogue   Hyderabad   \n",
            "5620        5781                   Lamborghini Gallardo Coupe       Delhi   \n",
            "5752        5919                       Jaguar F Type 5.0 V8 S   Hyderabad   \n",
            "1457        1505              Land Rover Range Rover Sport SE       Kochi   \n",
            "1917        1974                           BMW 7 Series 740Li  Coimbatore   \n",
            "\n",
            "      Year  Km_Driven Owner_Type  Mileage  Engine  Power  Seats   Price  \\\n",
            "3952  2017      25000      First    13.33  2993.0  255.0    5.0  160.00   \n",
            "5620  2011       6500      Third     6.40  5204.0  560.0    2.0  120.00   \n",
            "5752  2015       8000      First    12.50  5000.0  488.1    2.0  100.00   \n",
            "1457  2019      26013      First    12.65  2993.0  255.0    5.0   97.07   \n",
            "1917  2018      28060      First    12.05  2979.0  320.0    5.0   93.67   \n",
            "\n",
            "      Fuel_Type_Electric  Fuel_Type_Petrol  Transmission_Manual  Car_Age  \n",
            "3952                   0                 0                    0        7  \n",
            "5620                   0                 1                    0       13  \n",
            "5752                   0                 1                    0        9  \n",
            "1457                   0                 0                    0        5  \n",
            "1917                   0                 1                    0        6  \n",
            "     Location  Average_Price\n",
            "0   Ahmedabad       8.567248\n",
            "1   Bangalore      13.482670\n",
            "2     Chennai       7.958340\n",
            "3  Coimbatore      15.160206\n",
            "4       Delhi       9.881944\n"
          ]
        }
      ]
    }
  ]
}