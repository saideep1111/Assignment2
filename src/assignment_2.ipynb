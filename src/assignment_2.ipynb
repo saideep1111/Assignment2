{
  "nbformat": 4,
  "nbformat_minor": 0,
  "metadata": {
    "colab": {
      "provenance": []
    },
    "kernelspec": {
      "name": "python3",
      "display_name": "Python 3"
    },
    "language_info": {
      "name": "python"
    }
  },
  "cells": [
    {
      "cell_type": "markdown",
      "source": [
        "Step a: Handling Missing Values"
      ],
      "metadata": {
        "id": "fsQ6Bhv8Sp8z"
      }
    },
    {
      "cell_type": "code",
      "execution_count": 27,
      "metadata": {
        "colab": {
          "base_uri": "https://localhost:8080/"
        },
        "id": "WgSGUhy6SZAV",
        "outputId": "ac9eb094-1206-44bc-8d25-213de9b1688f"
      },
      "outputs": [
        {
          "output_type": "stream",
          "name": "stdout",
          "text": [
            "Unnamed: 0           0\n",
            "Name                 0\n",
            "Location             0\n",
            "Year                 0\n",
            "Kilometers_Driven    0\n",
            "Fuel_Type            0\n",
            "Transmission         0\n",
            "Owner_Type           0\n",
            "Mileage              0\n",
            "Engine               0\n",
            "Power                0\n",
            "Seats                0\n",
            "New_Price            0\n",
            "Price                0\n",
            "dtype: int64\n"
          ]
        },
        {
          "output_type": "stream",
          "name": "stderr",
          "text": [
            "<ipython-input-27-a28c587899ee>:16: FutureWarning: A value is trying to be set on a copy of a DataFrame or Series through chained assignment using an inplace method.\n",
            "The behavior will change in pandas 3.0. This inplace method will never work because the intermediate object on which we are setting values always behaves as a copy.\n",
            "\n",
            "For example, when doing 'df[col].method(value, inplace=True)', try using 'df.method({col: value}, inplace=True)' or df[col] = df[col].method(value) instead, to perform the operation inplace on the original object.\n",
            "\n",
            "\n",
            "  df[column].fillna(df[column].mean(), inplace=True)\n",
            "<ipython-input-27-a28c587899ee>:13: FutureWarning: A value is trying to be set on a copy of a DataFrame or Series through chained assignment using an inplace method.\n",
            "The behavior will change in pandas 3.0. This inplace method will never work because the intermediate object on which we are setting values always behaves as a copy.\n",
            "\n",
            "For example, when doing 'df[col].method(value, inplace=True)', try using 'df.method({col: value}, inplace=True)' or df[col] = df[col].method(value) instead, to perform the operation inplace on the original object.\n",
            "\n",
            "\n",
            "  df[column].fillna(df[column].mode()[0], inplace=True)\n"
          ]
        }
      ],
      "source": [
        "import pandas as pd\n",
        "\n",
        "# Load the dataset\n",
        "df = pd.read_csv('/content/train.csv')\n",
        "\n",
        "# Check for missing values\n",
        "missing_values = df.isnull().sum()\n",
        "\n",
        "# Impute missing values\n",
        "for column in df.columns:\n",
        "    if df[column].dtype == 'object':\n",
        "        # Impute categorical columns with mode\n",
        "        df[column].fillna(df[column].mode()[0], inplace=True)\n",
        "    else:\n",
        "        # Impute numerical columns with mean\n",
        "        df[column].fillna(df[column].mean(), inplace=True)\n",
        "\n",
        "# Verify that there are no missing values\n",
        "print(df.isnull().sum())\n"
      ]
    },
    {
      "cell_type": "markdown",
      "source": [
        "Step b: Removing Units from Attributes"
      ],
      "metadata": {
        "id": "Wsl3Pau-So1P"
      }
    },
    {
      "cell_type": "code",
      "source": [
        "# Remove units from specified columns\n",
        "df['Mileage'] = df['Mileage'].astype(str).str.replace(' kmpl', '').str.replace(' km/kg', '').astype(float)\n",
        "df['Engine'] = df['Engine'].astype(str).str.replace(' CC', '').astype(float)\n",
        "df['Power'] = df['Power'].astype(str).str.replace(' bhp', '').astype(float)\n",
        "\n",
        "# For New_Price, handle both Lakh and Crore\n",
        "df['New_Price'] = df['New_Price'].astype(str).str.replace(' Cr', '').str.replace(' Lakh', '').astype(float)\n",
        "# Convert Crore values to Lakh (1 Crore = 100 Lakh)\n",
        "mask = df['New_Price'].astype(str).str.contains('Cr')\n",
        "df.loc[mask, 'New_Price'] *= 100\n",
        "\n",
        "# Verify the changes\n",
        "print(df[['Mileage', 'Engine', 'Power', 'New_Price']].head())\n"
      ],
      "metadata": {
        "colab": {
          "base_uri": "https://localhost:8080/"
        },
        "id": "sxGIh8jrS8bH",
        "outputId": "e01d353c-a5a8-4209-f60d-fc8458105b57"
      },
      "execution_count": 28,
      "outputs": [
        {
          "output_type": "stream",
          "name": "stdout",
          "text": [
            "   Mileage  Engine   Power  New_Price\n",
            "0    19.67  1582.0  126.20       4.78\n",
            "1    13.00  1199.0   88.70       8.61\n",
            "2    20.77  1248.0   88.76       4.78\n",
            "3    15.20  1968.0  140.80       4.78\n",
            "4    23.08  1461.0   63.10       4.78\n"
          ]
        }
      ]
    },
    {
      "cell_type": "markdown",
      "source": [
        "Step c: One-Hot Encoding Categorical Variables"
      ],
      "metadata": {
        "id": "4r6Z55SXUs1d"
      }
    },
    {
      "cell_type": "code",
      "source": [
        "# One-hot encode categorical variables with integer dtype (0/1)\n",
        "df = pd.get_dummies(df, columns=['Fuel_Type', 'Transmission'], drop_first=True, dtype=int)\n",
        "\n",
        "# Verify the changes\n",
        "print(df.head())"
      ],
      "metadata": {
        "colab": {
          "base_uri": "https://localhost:8080/"
        },
        "id": "pcQ2NmJ9Uyma",
        "outputId": "e6217196-ba8a-4f24-e89a-4ef4f281fdf9"
      },
      "execution_count": 29,
      "outputs": [
        {
          "output_type": "stream",
          "name": "stdout",
          "text": [
            "   Unnamed: 0                              Name    Location  Year  \\\n",
            "0           1  Hyundai Creta 1.6 CRDi SX Option        Pune  2015   \n",
            "1           2                      Honda Jazz V     Chennai  2011   \n",
            "2           3                 Maruti Ertiga VDI     Chennai  2012   \n",
            "3           4   Audi A4 New 2.0 TDI Multitronic  Coimbatore  2013   \n",
            "4           6            Nissan Micra Diesel XV      Jaipur  2013   \n",
            "\n",
            "   Kilometers_Driven Owner_Type  Mileage  Engine   Power  Seats  New_Price  \\\n",
            "0              41000      First    19.67  1582.0  126.20    5.0       4.78   \n",
            "1              46000      First    13.00  1199.0   88.70    5.0       8.61   \n",
            "2              87000      First    20.77  1248.0   88.76    7.0       4.78   \n",
            "3              40670     Second    15.20  1968.0  140.80    5.0       4.78   \n",
            "4              86999      First    23.08  1461.0   63.10    5.0       4.78   \n",
            "\n",
            "   Price  Fuel_Type_Electric  Fuel_Type_Petrol  Transmission_Manual  \n",
            "0  12.50                   0                 0                    1  \n",
            "1   4.50                   0                 1                    1  \n",
            "2   6.00                   0                 0                    1  \n",
            "3  17.74                   0                 0                    0  \n",
            "4   3.50                   0                 0                    1  \n"
          ]
        }
      ]
    },
    {
      "cell_type": "markdown",
      "source": [
        "Step d: Creating a New Feature"
      ],
      "metadata": {
        "id": "MpeWjhR5VpbK"
      }
    },
    {
      "cell_type": "code",
      "source": [
        "# Create a new feature 'Car_Age'\n",
        "df['Car_Age'] = 2024 - df['Year']\n",
        "\n",
        "# Verify the new feature\n",
        "print(df[['Year', 'Car_Age']].head())\n"
      ],
      "metadata": {
        "colab": {
          "base_uri": "https://localhost:8080/"
        },
        "id": "L3apmFGlVqF-",
        "outputId": "ef9e67a5-4109-4ed0-fd0d-b41bfabdd709"
      },
      "execution_count": 30,
      "outputs": [
        {
          "output_type": "stream",
          "name": "stdout",
          "text": [
            "   Year  Car_Age\n",
            "0  2015        9\n",
            "1  2011       13\n",
            "2  2012       12\n",
            "3  2013       11\n",
            "4  2013       11\n"
          ]
        }
      ]
    },
    {
      "cell_type": "markdown",
      "source": [
        "Step e: Performing Data Operations"
      ],
      "metadata": {
        "id": "ud3bfiVzVxjF"
      }
    },
    {
      "cell_type": "code",
      "source": [
        "# Select specific columns\n",
        "selected_columns = df[['Name', 'Location', 'Year', 'Price']]\n",
        "\n",
        "# Filter rows where Price is greater than 10 lakhs\n",
        "filtered_df = df[df['Price'] > 10]\n",
        "\n",
        "# Rename the 'Price' column to 'Selling_Price'\n",
        "renamed_df = df.rename(columns={'Price': 'Selling_Price'})\n",
        "\n",
        "# Calculate Car_Age before creating Price_Per_Year\n",
        "current_year = 2024  # You can adjust this based on your needs\n",
        "mutated_df = df.copy()\n",
        "mutated_df['Car_Age'] = current_year - mutated_df['Year']\n",
        "mutated_df['Price_Per_Year'] = mutated_df['Price'] / mutated_df['Car_Age']\n",
        "\n",
        "# Arrange by 'Price' in descending order\n",
        "arranged_df = df.sort_values(by='Price', ascending=False)\n",
        "\n",
        "# Summarize by calculating the average price per location\n",
        "summary_df = df.groupby('Location')['Price'].mean().reset_index()\n",
        "\n",
        "# Display the results\n",
        "print(\"Selected Columns:\\n\", selected_columns.head())\n",
        "print(\"\\nFiltered DataFrame:\\n\", filtered_df.head())\n",
        "print(\"\\nRenamed DataFrame:\\n\", renamed_df.head())\n",
        "print(\"\\nMutated DataFrame:\\n\", mutated_df.head())\n",
        "print(\"\\nArranged DataFrame:\\n\", arranged_df.head())\n",
        "print(\"\\nSummary DataFrame:\\n\", summary_df.head())"
      ],
      "metadata": {
        "colab": {
          "base_uri": "https://localhost:8080/"
        },
        "id": "DdfNDWn4VyNh",
        "outputId": "2500f767-6513-4040-bc0f-e829c0577686"
      },
      "execution_count": 31,
      "outputs": [
        {
          "output_type": "stream",
          "name": "stdout",
          "text": [
            "Selected Columns:\n",
            "                                Name    Location  Year  Price\n",
            "0  Hyundai Creta 1.6 CRDi SX Option        Pune  2015  12.50\n",
            "1                      Honda Jazz V     Chennai  2011   4.50\n",
            "2                 Maruti Ertiga VDI     Chennai  2012   6.00\n",
            "3   Audi A4 New 2.0 TDI Multitronic  Coimbatore  2013  17.74\n",
            "4            Nissan Micra Diesel XV      Jaipur  2013   3.50\n",
            "\n",
            "Filtered DataFrame:\n",
            "     Unnamed: 0                               Name    Location  Year  \\\n",
            "0            1   Hyundai Creta 1.6 CRDi SX Option        Pune  2015   \n",
            "3            4    Audi A4 New 2.0 TDI Multitronic  Coimbatore  2013   \n",
            "5            7  Toyota Innova Crysta 2.8 GX AT 8S      Mumbai  2016   \n",
            "11          13   Land Rover Range Rover 2.2L Pure       Delhi  2014   \n",
            "12          14     Land Rover Freelander 2 TD4 SE        Pune  2012   \n",
            "\n",
            "    Kilometers_Driven Owner_Type  Mileage  Engine  Power  Seats  New_Price  \\\n",
            "0               41000      First    19.67  1582.0  126.2    5.0       4.78   \n",
            "3               40670     Second    15.20  1968.0  140.8    5.0       4.78   \n",
            "5               36000      First    11.36  2755.0  171.5    8.0      21.00   \n",
            "11              72000      First    12.70  2179.0  187.7    5.0       4.78   \n",
            "12              85000     Second     0.00  2179.0  115.0    5.0       4.78   \n",
            "\n",
            "    Price  Fuel_Type_Electric  Fuel_Type_Petrol  Transmission_Manual  Car_Age  \n",
            "0   12.50                   0                 0                    1        9  \n",
            "3   17.74                   0                 0                    0       11  \n",
            "5   17.50                   0                 0                    0        8  \n",
            "11  27.00                   0                 0                    0       10  \n",
            "12  17.50                   0                 0                    0       12  \n",
            "\n",
            "Renamed DataFrame:\n",
            "    Unnamed: 0                              Name    Location  Year  \\\n",
            "0           1  Hyundai Creta 1.6 CRDi SX Option        Pune  2015   \n",
            "1           2                      Honda Jazz V     Chennai  2011   \n",
            "2           3                 Maruti Ertiga VDI     Chennai  2012   \n",
            "3           4   Audi A4 New 2.0 TDI Multitronic  Coimbatore  2013   \n",
            "4           6            Nissan Micra Diesel XV      Jaipur  2013   \n",
            "\n",
            "   Kilometers_Driven Owner_Type  Mileage  Engine   Power  Seats  New_Price  \\\n",
            "0              41000      First    19.67  1582.0  126.20    5.0       4.78   \n",
            "1              46000      First    13.00  1199.0   88.70    5.0       8.61   \n",
            "2              87000      First    20.77  1248.0   88.76    7.0       4.78   \n",
            "3              40670     Second    15.20  1968.0  140.80    5.0       4.78   \n",
            "4              86999      First    23.08  1461.0   63.10    5.0       4.78   \n",
            "\n",
            "   Selling_Price  Fuel_Type_Electric  Fuel_Type_Petrol  Transmission_Manual  \\\n",
            "0          12.50                   0                 0                    1   \n",
            "1           4.50                   0                 1                    1   \n",
            "2           6.00                   0                 0                    1   \n",
            "3          17.74                   0                 0                    0   \n",
            "4           3.50                   0                 0                    1   \n",
            "\n",
            "   Car_Age  \n",
            "0        9  \n",
            "1       13  \n",
            "2       12  \n",
            "3       11  \n",
            "4       11  \n",
            "\n",
            "Mutated DataFrame:\n",
            "    Unnamed: 0                              Name    Location  Year  \\\n",
            "0           1  Hyundai Creta 1.6 CRDi SX Option        Pune  2015   \n",
            "1           2                      Honda Jazz V     Chennai  2011   \n",
            "2           3                 Maruti Ertiga VDI     Chennai  2012   \n",
            "3           4   Audi A4 New 2.0 TDI Multitronic  Coimbatore  2013   \n",
            "4           6            Nissan Micra Diesel XV      Jaipur  2013   \n",
            "\n",
            "   Kilometers_Driven Owner_Type  Mileage  Engine   Power  Seats  New_Price  \\\n",
            "0              41000      First    19.67  1582.0  126.20    5.0       4.78   \n",
            "1              46000      First    13.00  1199.0   88.70    5.0       8.61   \n",
            "2              87000      First    20.77  1248.0   88.76    7.0       4.78   \n",
            "3              40670     Second    15.20  1968.0  140.80    5.0       4.78   \n",
            "4              86999      First    23.08  1461.0   63.10    5.0       4.78   \n",
            "\n",
            "   Price  Fuel_Type_Electric  Fuel_Type_Petrol  Transmission_Manual  Car_Age  \\\n",
            "0  12.50                   0                 0                    1        9   \n",
            "1   4.50                   0                 1                    1       13   \n",
            "2   6.00                   0                 0                    1       12   \n",
            "3  17.74                   0                 0                    0       11   \n",
            "4   3.50                   0                 0                    1       11   \n",
            "\n",
            "   Price_Per_Year  \n",
            "0        1.388889  \n",
            "1        0.346154  \n",
            "2        0.500000  \n",
            "3        1.612727  \n",
            "4        0.318182  \n",
            "\n",
            "Arranged DataFrame:\n",
            "       Unnamed: 0                                         Name    Location  \\\n",
            "3952        4079  Land Rover Range Rover 3.0 Diesel LWB Vogue   Hyderabad   \n",
            "5620        5781                   Lamborghini Gallardo Coupe       Delhi   \n",
            "5752        5919                       Jaguar F Type 5.0 V8 S   Hyderabad   \n",
            "1457        1505              Land Rover Range Rover Sport SE       Kochi   \n",
            "1917        1974                           BMW 7 Series 740Li  Coimbatore   \n",
            "\n",
            "      Year  Kilometers_Driven Owner_Type  Mileage  Engine  Power  Seats  \\\n",
            "3952  2017              25000      First    13.33  2993.0  255.0    5.0   \n",
            "5620  2011               6500      Third     6.40  5204.0  560.0    2.0   \n",
            "5752  2015               8000      First    12.50  5000.0  488.1    2.0   \n",
            "1457  2019              26013      First    12.65  2993.0  255.0    5.0   \n",
            "1917  2018              28060      First    12.05  2979.0  320.0    5.0   \n",
            "\n",
            "      New_Price   Price  Fuel_Type_Electric  Fuel_Type_Petrol  \\\n",
            "3952       2.30  160.00                   0                 0   \n",
            "5620       4.78  120.00                   0                 1   \n",
            "5752       4.78  100.00                   0                 1   \n",
            "1457       1.39   97.07                   0                 0   \n",
            "1917       4.78   93.67                   0                 1   \n",
            "\n",
            "      Transmission_Manual  Car_Age  \n",
            "3952                    0        7  \n",
            "5620                    0       13  \n",
            "5752                    0        9  \n",
            "1457                    0        5  \n",
            "1917                    0        6  \n",
            "\n",
            "Summary DataFrame:\n",
            "      Location      Price\n",
            "0   Ahmedabad   8.567248\n",
            "1   Bangalore  13.482670\n",
            "2     Chennai   7.958340\n",
            "3  Coimbatore  15.160206\n",
            "4       Delhi   9.881944\n"
          ]
        }
      ]
    }
  ]
}